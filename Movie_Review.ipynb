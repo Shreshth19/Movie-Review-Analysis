{
 "cells": [
  {
   "cell_type": "code",
   "execution_count": null,
   "id": "178a899e",
   "metadata": {},
   "outputs": [],
   "source": [
    "## Loading the data set from nltk itself"
   ]
  },
  {
   "cell_type": "code",
   "execution_count": 1,
   "id": "62ec5e8e",
   "metadata": {},
   "outputs": [],
   "source": [
    "from nltk.corpus import movie_reviews"
   ]
  },
  {
   "cell_type": "markdown",
   "id": "510d2434",
   "metadata": {},
   "source": [
    "## exploring data"
   ]
  },
  {
   "cell_type": "code",
   "execution_count": 2,
   "id": "31aef47e",
   "metadata": {},
   "outputs": [
    {
     "data": {
      "text/plain": [
       "['neg', 'pos']"
      ]
     },
     "execution_count": 2,
     "metadata": {},
     "output_type": "execute_result"
    }
   ],
   "source": [
    "movie_reviews.categories() ## seeing the cat"
   ]
  },
  {
   "cell_type": "code",
   "execution_count": 3,
   "id": "27126dde",
   "metadata": {},
   "outputs": [
    {
     "data": {
      "text/plain": [
       "2000"
      ]
     },
     "execution_count": 3,
     "metadata": {},
     "output_type": "execute_result"
    }
   ],
   "source": [
    "len(movie_reviews.fileids())"
   ]
  },
  {
   "cell_type": "code",
   "execution_count": 4,
   "id": "628999b4",
   "metadata": {},
   "outputs": [
    {
     "data": {
      "text/plain": [
       "['capsule', ':', 'in', '2176', 'on', 'the', 'planet', ...]"
      ]
     },
     "execution_count": 4,
     "metadata": {},
     "output_type": "execute_result"
    }
   ],
   "source": [
    "movie_reviews.words(movie_reviews.fileids()[5])"
   ]
  },
  {
   "cell_type": "code",
   "execution_count": 5,
   "id": "724f7e50",
   "metadata": {},
   "outputs": [],
   "source": [
    "## storing all data into list and then shuffling it randomly"
   ]
  },
  {
   "cell_type": "code",
   "execution_count": 6,
   "id": "0608394d",
   "metadata": {},
   "outputs": [
    {
     "data": {
      "text/plain": [
       "[(['plot', ':', 'two', 'teen', 'couples', 'go', 'to', ...], 'neg'),\n",
       " (['the', 'happy', 'bastard', \"'\", 's', 'quick', 'movie', ...], 'neg'),\n",
       " (['it', 'is', 'movies', 'like', 'these', 'that', 'make', ...], 'neg'),\n",
       " (['\"', 'quest', 'for', 'camelot', '\"', 'is', 'warner', ...], 'neg'),\n",
       " (['synopsis', ':', 'a', 'mentally', 'unstable', 'man', ...], 'neg')]"
      ]
     },
     "execution_count": 6,
     "metadata": {},
     "output_type": "execute_result"
    }
   ],
   "source": [
    "documents = []\n",
    "for category in movie_reviews.categories():\n",
    "    for fileid in movie_reviews.fileids(category):\n",
    "        documents.append((movie_reviews.words(fileid),category))\n",
    "documents[0:5]"
   ]
  },
  {
   "cell_type": "code",
   "execution_count": 7,
   "id": "b09a8d3b",
   "metadata": {},
   "outputs": [],
   "source": [
    "import random \n",
    "random.shuffle(documents)"
   ]
  },
  {
   "cell_type": "code",
   "execution_count": 8,
   "id": "612f647e",
   "metadata": {},
   "outputs": [
    {
     "data": {
      "text/plain": [
       "[(['note', ':', 'some', 'may', 'consider', 'portions', ...], 'neg'),\n",
       " (['stendhal', \"'\", 's', 'syndrome', ':', 'a', ...], 'pos'),\n",
       " (['what', 'do', 'you', 'get', 'when', 'you', 'rip', '-', ...], 'neg'),\n",
       " (['plot', ':', 'a', 'group', 'of', 'asbestos', ...], 'pos'),\n",
       " (['here', \"'\", 's', 'a', 'word', 'analogy', ':', ...], 'pos')]"
      ]
     },
     "execution_count": 8,
     "metadata": {},
     "output_type": "execute_result"
    }
   ],
   "source": [
    "documents[0:5]"
   ]
  },
  {
   "cell_type": "markdown",
   "id": "f6fe20ed",
   "metadata": {},
   "source": [
    "## removing the stop words and punctuations then Lemmatizing the remaing data"
   ]
  },
  {
   "cell_type": "code",
   "execution_count": 17,
   "id": "fb6248fe",
   "metadata": {},
   "outputs": [],
   "source": [
    "from nltk.corpus import stopwords\n",
    "from nltk.tokenize import word_tokenize\n",
    "import string\n",
    "from nltk import pos_tag\n",
    "from nltk.stem import WordNetLemmatizer\n",
    "from nltk.corpus import wordnet"
   ]
  },
  {
   "cell_type": "code",
   "execution_count": 18,
   "id": "52949321",
   "metadata": {},
   "outputs": [],
   "source": [
    "from nltk.corpus import stopwords\n",
    "stops=set(stopwords.words('english'))\n",
    "import string\n",
    "punctuations=list(string.punctuation)\n",
    "stops.update(punctuations)\n"
   ]
  },
  {
   "cell_type": "code",
   "execution_count": 19,
   "id": "76100174",
   "metadata": {},
   "outputs": [],
   "source": [
    "lemmatizer = WordNetLemmatizer()"
   ]
  },
  {
   "cell_type": "code",
   "execution_count": 20,
   "id": "2f6b8515",
   "metadata": {},
   "outputs": [
    {
     "data": {
      "text/plain": [
       "[('better', 'RBR')]"
      ]
     },
     "execution_count": 20,
     "metadata": {},
     "output_type": "execute_result"
    }
   ],
   "source": [
    "from nltk import pos_tag\n",
    "w='better'\n",
    "pos_tag([w])#as it excepts data as array of words not a string or directly words"
   ]
  },
  {
   "cell_type": "markdown",
   "id": "967e53e1",
   "metadata": {},
   "source": [
    "## Making a function to convert post_tag to general terminology that lemmatizer could understand"
   ]
  },
  {
   "cell_type": "code",
   "execution_count": 21,
   "id": "0e548935",
   "metadata": {},
   "outputs": [],
   "source": [
    "def get_simple_pos(tag):\n",
    "    if tag.startswith('J'):\n",
    "        return wordnet.ADJ\n",
    "    elif tag.startswith('V'):\n",
    "        return wordnet.VERB\n",
    "    elif tag.startswith('N'):\n",
    "        return wordnet.NOUN\n",
    "    elif tag.startswith('R'):\n",
    "        return wordnet.ADV\n",
    "    else:\n",
    "        return wordnet.NOUN"
   ]
  },
  {
   "cell_type": "code",
   "execution_count": 22,
   "id": "a80d98d4",
   "metadata": {},
   "outputs": [],
   "source": [
    "## making a function to get post tag, lemmatize then make a list to append it"
   ]
  },
  {
   "cell_type": "code",
   "execution_count": 23,
   "id": "369b6743",
   "metadata": {},
   "outputs": [],
   "source": [
    "def clean_review(words):\n",
    "    output_words = []\n",
    "    \n",
    "    for w in words:\n",
    "        if w.lower() not in stops: \n",
    "            pos = pos_tag([w])  # not lowering here since it might reduce the info\n",
    "            clean_word = lemmatizer.lemmatize(w,pos= get_simple_pos(pos[0][1]))\n",
    "            output_words.append(clean_word.lower())\n",
    "    return output_words"
   ]
  },
  {
   "cell_type": "code",
   "execution_count": 24,
   "id": "f99c0143",
   "metadata": {},
   "outputs": [],
   "source": [
    "documents = [(clean_review(document), category) for document, category  in documents ] \n",
    "## calling function for all data points"
   ]
  },
  {
   "cell_type": "code",
   "execution_count": null,
   "id": "27ed455b",
   "metadata": {},
   "outputs": [],
   "source": []
  },
  {
   "cell_type": "markdown",
   "id": "78241892",
   "metadata": {},
   "source": [
    "## Method 1 : building features for NLTK built in classifier"
   ]
  },
  {
   "cell_type": "code",
   "execution_count": 106,
   "id": "491ddce4",
   "metadata": {},
   "outputs": [],
   "source": [
    "training_documents = documents[0:1500]  ## first doing train test split\n",
    "test_documents = documents[1500:]\n",
    "## since data is shuffled therefore can do it directly \n",
    "## also we make features from training data only"
   ]
  },
  {
   "cell_type": "markdown",
   "id": "5becf143",
   "metadata": {},
   "source": [
    "## making all the features(words) present in a single list"
   ]
  },
  {
   "cell_type": "code",
   "execution_count": 107,
   "id": "2dd70479",
   "metadata": {},
   "outputs": [],
   "source": [
    "all_words = [] \n",
    "for doc in training_documents:\n",
    "    all_words+=doc[0]  ## since doc is a tuple so first element will be added\n"
   ]
  },
  {
   "cell_type": "code",
   "execution_count": 108,
   "id": "224144f4",
   "metadata": {},
   "outputs": [],
   "source": [
    "import nltk"
   ]
  },
  {
   "cell_type": "code",
   "execution_count": 112,
   "id": "976895cd",
   "metadata": {},
   "outputs": [
    {
     "data": {
      "text/plain": [
       "FreqDist({'film': 8512, 'movie': 5142, 'one': 4510, 'make': 3292, 'like': 2996, 'character': 2912, 'get': 2713, 'see': 2380, 'go': 2306, 'time': 2284, ...})"
      ]
     },
     "execution_count": 112,
     "metadata": {},
     "output_type": "execute_result"
    }
   ],
   "source": [
    "freq = nltk.FreqDist(all_words)  ## finds the freq distribution of each word\n",
    "freq"
   ]
  },
  {
   "cell_type": "code",
   "execution_count": 113,
   "id": "5fdd6342",
   "metadata": {},
   "outputs": [],
   "source": [
    "common = freq.most_common(3000) ## to get top 3k most used words as features\n",
    "features = [i[0] for i in common]"
   ]
  },
  {
   "cell_type": "code",
   "execution_count": null,
   "id": "063fbe1d",
   "metadata": {},
   "outputs": [],
   "source": []
  },
  {
   "cell_type": "code",
   "execution_count": 115,
   "id": "b7e83b03",
   "metadata": {},
   "outputs": [],
   "source": [
    "## now for each document we want to create a dict where it tell \n",
    "## for every feature 'film' True \n",
    "            #        'movie' false   ...."
   ]
  },
  {
   "cell_type": "code",
   "execution_count": null,
   "id": "93a015b9",
   "metadata": {},
   "outputs": [],
   "source": [
    "## function to check where the text contains the feature (top words) or not"
   ]
  },
  {
   "cell_type": "code",
   "execution_count": 120,
   "id": "5532ce89",
   "metadata": {},
   "outputs": [],
   "source": [
    "def get_feature_dict(words):\n",
    "    current_features = {}\n",
    "    words_set = set(words)\n",
    "    for w in features:\n",
    "        current_features[w]= w in words_set  ## return T/F\n",
    "    return current_features"
   ]
  },
  {
   "cell_type": "code",
   "execution_count": 180,
   "id": "b6067cd1",
   "metadata": {},
   "outputs": [],
   "source": [
    "output = get_feature_dict(training_documents[0][0])\n"
   ]
  },
  {
   "cell_type": "code",
   "execution_count": 153,
   "id": "2f6c54be",
   "metadata": {},
   "outputs": [],
   "source": [
    "## for nltk training & testing data should be in form of\n",
    "## array --> containg tuple + category\n",
    "## tuple --> contain dict that features(top word) present in text or not [i.e feature + feature value]"
   ]
  },
  {
   "cell_type": "code",
   "execution_count": 122,
   "id": "6692c945",
   "metadata": {},
   "outputs": [],
   "source": [
    "training_data = [ (get_feature_dict(doc),category) for doc,category in training_documents] "
   ]
  },
  {
   "cell_type": "code",
   "execution_count": 123,
   "id": "d5d991c1",
   "metadata": {},
   "outputs": [],
   "source": [
    "test_data = [ (get_feature_dict(doc),category) for doc,category in test_documents] "
   ]
  },
  {
   "cell_type": "code",
   "execution_count": null,
   "id": "0cdb5247",
   "metadata": {},
   "outputs": [],
   "source": []
  },
  {
   "cell_type": "code",
   "execution_count": null,
   "id": "ffc2f041",
   "metadata": {},
   "outputs": [],
   "source": [
    "## using inbuilt naive bayes classifier in nltk"
   ]
  },
  {
   "cell_type": "code",
   "execution_count": 127,
   "id": "f3ab84e3",
   "metadata": {},
   "outputs": [],
   "source": [
    "from nltk import NaiveBayesClassifier"
   ]
  },
  {
   "cell_type": "code",
   "execution_count": 128,
   "id": "180c1e04",
   "metadata": {},
   "outputs": [],
   "source": [
    "classifier = NaiveBayesClassifier.train(training_data)"
   ]
  },
  {
   "cell_type": "code",
   "execution_count": 131,
   "id": "00f42c25",
   "metadata": {},
   "outputs": [
    {
     "data": {
      "text/plain": [
       "0.782"
      ]
     },
     "execution_count": 131,
     "metadata": {},
     "output_type": "execute_result"
    }
   ],
   "source": [
    "nltk.classify.accuracy(classifier, test_data)"
   ]
  },
  {
   "cell_type": "code",
   "execution_count": 133,
   "id": "05b5b58d",
   "metadata": {},
   "outputs": [
    {
     "name": "stdout",
     "output_type": "stream",
     "text": [
      "Most Informative Features\n",
      "               ludicrous = True              neg : pos    =     12.8 : 1.0\n",
      "             outstanding = True              pos : neg    =     10.5 : 1.0\n",
      "                   jolie = True              neg : pos    =      8.9 : 1.0\n",
      "              schumacher = True              neg : pos    =      8.9 : 1.0\n",
      "                  sinise = True              neg : pos    =      7.6 : 1.0\n",
      "               stupidity = True              neg : pos    =      7.2 : 1.0\n",
      "                  poorly = True              neg : pos    =      6.9 : 1.0\n",
      "                   anger = True              pos : neg    =      6.5 : 1.0\n",
      "                   ideal = True              pos : neg    =      6.5 : 1.0\n",
      "                   damon = True              pos : neg    =      6.5 : 1.0\n",
      "                lifeless = True              neg : pos    =      6.5 : 1.0\n",
      "               criticism = True              pos : neg    =      6.2 : 1.0\n",
      "             beautifully = True              pos : neg    =      6.2 : 1.0\n",
      "                  seagal = True              neg : pos    =      6.1 : 1.0\n",
      "              ridiculous = True              neg : pos    =      5.8 : 1.0\n"
     ]
    }
   ],
   "source": [
    "classifier.show_most_informative_features(15) ## top most effective words"
   ]
  },
  {
   "cell_type": "markdown",
   "id": "dfda9545",
   "metadata": {},
   "source": [
    "## using Sklearn models with NLTK Training data"
   ]
  },
  {
   "cell_type": "code",
   "execution_count": 172,
   "id": "43629299",
   "metadata": {},
   "outputs": [],
   "source": [
    "from sklearn.tree import DecisionTreeClassifier"
   ]
  },
  {
   "cell_type": "code",
   "execution_count": 173,
   "id": "a04c3f00",
   "metadata": {},
   "outputs": [],
   "source": [
    "dt = DecisionTreeClassifier()\n",
    "classifier_sklearn = SklearnClassifier(dt)"
   ]
  },
  {
   "cell_type": "code",
   "execution_count": 174,
   "id": "8a346bec",
   "metadata": {},
   "outputs": [
    {
     "data": {
      "text/plain": [
       "<SklearnClassifier(DecisionTreeClassifier())>"
      ]
     },
     "execution_count": 174,
     "metadata": {},
     "output_type": "execute_result"
    }
   ],
   "source": [
    "classifier_sklearn.train(training_data)"
   ]
  },
  {
   "cell_type": "code",
   "execution_count": 175,
   "id": "7ad2c4d0",
   "metadata": {},
   "outputs": [
    {
     "data": {
      "text/plain": [
       "0.594"
      ]
     },
     "execution_count": 175,
     "metadata": {},
     "output_type": "execute_result"
    }
   ],
   "source": [
    "nltk.classify.accuracy(classifier_sklearn, test_data)"
   ]
  },
  {
   "cell_type": "code",
   "execution_count": 168,
   "id": "cb0f618b",
   "metadata": {},
   "outputs": [],
   "source": [
    "from sklearn.ensemble import RandomForestClassifier"
   ]
  },
  {
   "cell_type": "code",
   "execution_count": 169,
   "id": "1cba8353",
   "metadata": {},
   "outputs": [],
   "source": [
    "rf = RandomForestClassifier()\n",
    "classifier_sklearn2 = SklearnClassifier(rf)"
   ]
  },
  {
   "cell_type": "code",
   "execution_count": 170,
   "id": "afbda7b8",
   "metadata": {},
   "outputs": [
    {
     "data": {
      "text/plain": [
       "<SklearnClassifier(RandomForestClassifier())>"
      ]
     },
     "execution_count": 170,
     "metadata": {},
     "output_type": "execute_result"
    }
   ],
   "source": [
    "classifier_sklearn2.train(training_data)"
   ]
  },
  {
   "cell_type": "code",
   "execution_count": 171,
   "id": "462ce592",
   "metadata": {},
   "outputs": [
    {
     "data": {
      "text/plain": [
       "0.814"
      ]
     },
     "execution_count": 171,
     "metadata": {},
     "output_type": "execute_result"
    }
   ],
   "source": [
    "nltk.classify.accuracy(classifier_sklearn2, test_data)"
   ]
  },
  {
   "cell_type": "markdown",
   "id": "6f5ee8e3",
   "metadata": {},
   "source": [
    "## Method 2:  using count vectorization method"
   ]
  },
  {
   "cell_type": "code",
   "execution_count": 25,
   "id": "4961b114",
   "metadata": {},
   "outputs": [],
   "source": [
    "from sklearn.feature_extraction.text import CountVectorizer"
   ]
  },
  {
   "cell_type": "code",
   "execution_count": 47,
   "id": "3b806476",
   "metadata": {},
   "outputs": [
    {
     "data": {
      "text/plain": [
       "'ab cd'"
      ]
     },
     "execution_count": 47,
     "metadata": {},
     "output_type": "execute_result"
    }
   ],
   "source": [
    "## in code below:\n",
    "## 1. joining text\n",
    "a = ['ab','cd']\n",
    "' '.join(a)\n",
    "## 2. getting y as categories"
   ]
  },
  {
   "cell_type": "code",
   "execution_count": 61,
   "id": "8b9703e0",
   "metadata": {},
   "outputs": [],
   "source": [
    "text_data = [' '.join(document) for document, category in documents]\n",
    "category = [category for document,category in documents]"
   ]
  },
  {
   "cell_type": "code",
   "execution_count": 62,
   "id": "46c37abd",
   "metadata": {},
   "outputs": [],
   "source": [
    "from sklearn.model_selection import train_test_split\n",
    "x_train , x_test, y_train , y_test = train_test_split(text_data , category)"
   ]
  },
  {
   "cell_type": "markdown",
   "id": "d62b47e7",
   "metadata": {},
   "source": [
    "### using max_features and Ngram"
   ]
  },
  {
   "cell_type": "code",
   "execution_count": 81,
   "id": "e8b8bbd9",
   "metadata": {},
   "outputs": [],
   "source": [
    "count_vec = CountVectorizer(max_features =2000, ngram_range = (1,2))"
   ]
  },
  {
   "cell_type": "code",
   "execution_count": 82,
   "id": "0f742f91",
   "metadata": {},
   "outputs": [
    {
     "data": {
      "text/plain": [
       "<1500x2000 sparse matrix of type '<class 'numpy.int64'>'\n",
       "\twith 262347 stored elements in Compressed Sparse Row format>"
      ]
     },
     "execution_count": 82,
     "metadata": {},
     "output_type": "execute_result"
    }
   ],
   "source": [
    "x_training = count_vec.fit_transform(x_train)\n",
    "x_training"
   ]
  },
  {
   "cell_type": "code",
   "execution_count": 83,
   "id": "5770465f",
   "metadata": {},
   "outputs": [
    {
     "name": "stderr",
     "output_type": "stream",
     "text": [
      "C:\\Users\\DELL\\anaconda3\\lib\\site-packages\\sklearn\\utils\\deprecation.py:87: FutureWarning: Function get_feature_names is deprecated; get_feature_names is deprecated in 1.0 and will be removed in 1.2. Please use get_feature_names_out instead.\n",
      "  warnings.warn(msg, category=FutureWarning)\n"
     ]
    },
    {
     "data": {
      "text/plain": [
       "['000',\n",
       " '10',\n",
       " '100',\n",
       " '13',\n",
       " '15',\n",
       " '17',\n",
       " '1995',\n",
       " '1996',\n",
       " '1997',\n",
       " '1998',\n",
       " '1999',\n",
       " '20',\n",
       " '30',\n",
       " '50',\n",
       " '60',\n",
       " '70',\n",
       " '80',\n",
       " '90',\n",
       " 'abandon',\n",
       " 'ability',\n",
       " 'able',\n",
       " 'absolutely',\n",
       " 'academy',\n",
       " 'accent',\n",
       " 'accept',\n",
       " 'accident',\n",
       " 'accomplish',\n",
       " 'achieve',\n",
       " 'across',\n",
       " 'act']"
      ]
     },
     "execution_count": 83,
     "metadata": {},
     "output_type": "execute_result"
    }
   ],
   "source": [
    "count_vec.get_feature_names()[0:30] ## seeing top 30 features"
   ]
  },
  {
   "cell_type": "code",
   "execution_count": 84,
   "id": "e7e887be",
   "metadata": {},
   "outputs": [],
   "source": [
    "## x_training.todense()"
   ]
  },
  {
   "cell_type": "code",
   "execution_count": 85,
   "id": "dc7ac448",
   "metadata": {},
   "outputs": [
    {
     "data": {
      "text/plain": [
       "<500x2000 sparse matrix of type '<class 'numpy.int64'>'\n",
       "\twith 85457 stored elements in Compressed Sparse Row format>"
      ]
     },
     "execution_count": 85,
     "metadata": {},
     "output_type": "execute_result"
    }
   ],
   "source": [
    "x_testing = count_vec.transform(x_test)\n",
    "x_testing\n",
    "## x_testing.todense()"
   ]
  },
  {
   "cell_type": "code",
   "execution_count": 86,
   "id": "b56690b6",
   "metadata": {},
   "outputs": [],
   "source": [
    "from sklearn.ensemble import RandomForestClassifier"
   ]
  },
  {
   "cell_type": "code",
   "execution_count": 87,
   "id": "e6bb62d2",
   "metadata": {},
   "outputs": [],
   "source": [
    "rf = RandomForestClassifier()"
   ]
  },
  {
   "cell_type": "code",
   "execution_count": 88,
   "id": "b2f4227a",
   "metadata": {},
   "outputs": [
    {
     "data": {
      "text/plain": [
       "RandomForestClassifier()"
      ]
     },
     "execution_count": 88,
     "metadata": {},
     "output_type": "execute_result"
    }
   ],
   "source": [
    "rf.fit(x_training , y_train)"
   ]
  },
  {
   "cell_type": "code",
   "execution_count": 89,
   "id": "bf68cf2b",
   "metadata": {},
   "outputs": [
    {
     "data": {
      "text/plain": [
       "0.824"
      ]
     },
     "execution_count": 89,
     "metadata": {},
     "output_type": "execute_result"
    }
   ],
   "source": [
    "rf.score(x_testing , y_test)"
   ]
  },
  {
   "cell_type": "code",
   "execution_count": null,
   "id": "290cb8b3",
   "metadata": {},
   "outputs": [],
   "source": []
  }
 ],
 "metadata": {
  "kernelspec": {
   "display_name": "Python 3 (ipykernel)",
   "language": "python",
   "name": "python3"
  },
  "language_info": {
   "codemirror_mode": {
    "name": "ipython",
    "version": 3
   },
   "file_extension": ".py",
   "mimetype": "text/x-python",
   "name": "python",
   "nbconvert_exporter": "python",
   "pygments_lexer": "ipython3",
   "version": "3.9.13"
  }
 },
 "nbformat": 4,
 "nbformat_minor": 5
}
